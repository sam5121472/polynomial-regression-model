{
 "cells": [
  {
   "cell_type": "markdown",
   "id": "dfe96692",
   "metadata": {},
   "source": [
    "# ___________________________POLYNOMIAL REGRESSION___________________"
   ]
  },
  {
   "cell_type": "code",
   "execution_count": 17,
   "id": "fa3c5da4",
   "metadata": {},
   "outputs": [
    {
     "data": {
      "text/plain": [
       "'y = b0 + b1x + b2x^2 + ... + bn*x^n\\n\\nWhere:\\n\\ny is the dependent variable or the target variable we want to predict.\\nx is the independent variable or the input feature.\\nb0, b1, ..., bn are the coefficients for each term in the polynomial equation.\\nn is the degree of the polynomial, representing the highest power of the independent variable.'"
      ]
     },
     "execution_count": 17,
     "metadata": {},
     "output_type": "execute_result"
    }
   ],
   "source": [
    "'''y = b0 + b1x + b2x^2 + ... + bn*x^n\n",
    "\n",
    "Where:\n",
    "\n",
    "y is the dependent variable or the target variable we want to predict.\n",
    "x is the independent variable or the input feature.\n",
    "b0, b1, ..., bn are the coefficients for each term in the polynomial equation.\n",
    "n is the degree of the polynomial, representing the highest power of the independent variable.'''"
   ]
  },
  {
   "cell_type": "markdown",
   "id": "683736cb",
   "metadata": {},
   "source": [
    "# IMPORT LIBRARIES"
   ]
  },
  {
   "cell_type": "code",
   "execution_count": 1,
   "id": "6758a0c1",
   "metadata": {},
   "outputs": [],
   "source": [
    "import pandas as pd\n",
    "import numpy as np\n",
    "import seaborn as sns\n",
    "import matplotlib.pyplot as plt\n",
    "from sklearn.preprocessing import PolynomialFeatures\n"
   ]
  },
  {
   "cell_type": "markdown",
   "id": "61d57d42",
   "metadata": {},
   "source": [
    "# IMPORT DATASET"
   ]
  },
  {
   "cell_type": "code",
   "execution_count": 2,
   "id": "92af4128",
   "metadata": {
    "scrolled": true
   },
   "outputs": [
    {
     "data": {
      "text/html": [
       "<div>\n",
       "<style scoped>\n",
       "    .dataframe tbody tr th:only-of-type {\n",
       "        vertical-align: middle;\n",
       "    }\n",
       "\n",
       "    .dataframe tbody tr th {\n",
       "        vertical-align: top;\n",
       "    }\n",
       "\n",
       "    .dataframe thead th {\n",
       "        text-align: right;\n",
       "    }\n",
       "</style>\n",
       "<table border=\"1\" class=\"dataframe\">\n",
       "  <thead>\n",
       "    <tr style=\"text-align: right;\">\n",
       "      <th></th>\n",
       "      <th>number_courses</th>\n",
       "      <th>time_study</th>\n",
       "      <th>Marks</th>\n",
       "    </tr>\n",
       "  </thead>\n",
       "  <tbody>\n",
       "    <tr>\n",
       "      <th>0</th>\n",
       "      <td>3</td>\n",
       "      <td>4.508</td>\n",
       "      <td>19.202</td>\n",
       "    </tr>\n",
       "    <tr>\n",
       "      <th>1</th>\n",
       "      <td>4</td>\n",
       "      <td>0.096</td>\n",
       "      <td>7.734</td>\n",
       "    </tr>\n",
       "    <tr>\n",
       "      <th>2</th>\n",
       "      <td>4</td>\n",
       "      <td>3.133</td>\n",
       "      <td>13.811</td>\n",
       "    </tr>\n",
       "    <tr>\n",
       "      <th>3</th>\n",
       "      <td>6</td>\n",
       "      <td>7.909</td>\n",
       "      <td>53.018</td>\n",
       "    </tr>\n",
       "    <tr>\n",
       "      <th>4</th>\n",
       "      <td>8</td>\n",
       "      <td>7.811</td>\n",
       "      <td>55.299</td>\n",
       "    </tr>\n",
       "  </tbody>\n",
       "</table>\n",
       "</div>"
      ],
      "text/plain": [
       "   number_courses  time_study   Marks\n",
       "0               3       4.508  19.202\n",
       "1               4       0.096   7.734\n",
       "2               4       3.133  13.811\n",
       "3               6       7.909  53.018\n",
       "4               8       7.811  55.299"
      ]
     },
     "execution_count": 2,
     "metadata": {},
     "output_type": "execute_result"
    }
   ],
   "source": [
    "df=pd.read_csv('student marks.zip')\n",
    "df.head()\n",
    "\n",
    "# SPLITING DATASET"
   ]
  },
  {
   "cell_type": "code",
   "execution_count": 3,
   "id": "654f440a",
   "metadata": {},
   "outputs": [
    {
     "data": {
      "text/plain": [
       "array([[4.508],\n",
       "       [0.096],\n",
       "       [3.133],\n",
       "       [7.909],\n",
       "       [7.811],\n",
       "       [3.211],\n",
       "       [6.063],\n",
       "       [3.413],\n",
       "       [4.41 ],\n",
       "       [6.173],\n",
       "       [7.353],\n",
       "       [0.423],\n",
       "       [4.218],\n",
       "       [4.274],\n",
       "       [2.908],\n",
       "       [4.26 ],\n",
       "       [5.719],\n",
       "       [6.08 ],\n",
       "       [7.711],\n",
       "       [3.977],\n",
       "       [4.733],\n",
       "       [6.126],\n",
       "       [2.051],\n",
       "       [4.875],\n",
       "       [3.635],\n",
       "       [1.407],\n",
       "       [0.508],\n",
       "       [4.378],\n",
       "       [0.156],\n",
       "       [1.299],\n",
       "       [3.864],\n",
       "       [1.923],\n",
       "       [0.932],\n",
       "       [6.594],\n",
       "       [4.083],\n",
       "       [7.543],\n",
       "       [2.966],\n",
       "       [7.283],\n",
       "       [6.533],\n",
       "       [7.775],\n",
       "       [0.14 ],\n",
       "       [2.754],\n",
       "       [3.591],\n",
       "       [1.557],\n",
       "       [1.954],\n",
       "       [2.061],\n",
       "       [3.797],\n",
       "       [4.779],\n",
       "       [5.635],\n",
       "       [3.913],\n",
       "       [6.703],\n",
       "       [4.13 ],\n",
       "       [0.771],\n",
       "       [6.049],\n",
       "       [7.591],\n",
       "       [2.913],\n",
       "       [7.641],\n",
       "       [7.649],\n",
       "       [6.198],\n",
       "       [7.468],\n",
       "       [0.376],\n",
       "       [2.438],\n",
       "       [3.606],\n",
       "       [4.869],\n",
       "       [0.13 ],\n",
       "       [2.142],\n",
       "       [5.473],\n",
       "       [0.55 ],\n",
       "       [1.395],\n",
       "       [3.948],\n",
       "       [3.736],\n",
       "       [2.518],\n",
       "       [4.633],\n",
       "       [1.629],\n",
       "       [6.954],\n",
       "       [0.803],\n",
       "       [6.379],\n",
       "       [5.985],\n",
       "       [7.451],\n",
       "       [0.805],\n",
       "       [7.957],\n",
       "       [2.262],\n",
       "       [7.41 ],\n",
       "       [3.197],\n",
       "       [1.982],\n",
       "       [6.201],\n",
       "       [4.067],\n",
       "       [1.033],\n",
       "       [1.803],\n",
       "       [6.376],\n",
       "       [4.182],\n",
       "       [2.73 ],\n",
       "       [5.027],\n",
       "       [6.471],\n",
       "       [3.919],\n",
       "       [3.561],\n",
       "       [0.301],\n",
       "       [7.163],\n",
       "       [0.309],\n",
       "       [6.335]])"
      ]
     },
     "execution_count": 3,
     "metadata": {},
     "output_type": "execute_result"
    }
   ],
   "source": [
    "x=df[['time_study']].values\n",
    "x"
   ]
  },
  {
   "cell_type": "code",
   "execution_count": 4,
   "id": "2960ebc6",
   "metadata": {},
   "outputs": [
    {
     "data": {
      "text/plain": [
       "array([[19.202],\n",
       "       [ 7.734],\n",
       "       [13.811],\n",
       "       [53.018],\n",
       "       [55.299],\n",
       "       [17.822],\n",
       "       [29.889],\n",
       "       [17.264],\n",
       "       [20.348],\n",
       "       [30.862],\n",
       "       [42.036],\n",
       "       [12.132],\n",
       "       [24.318],\n",
       "       [17.672],\n",
       "       [11.397],\n",
       "       [19.466],\n",
       "       [30.548],\n",
       "       [38.49 ],\n",
       "       [50.986],\n",
       "       [25.133],\n",
       "       [22.073],\n",
       "       [35.939],\n",
       "       [12.209],\n",
       "       [28.043],\n",
       "       [16.517],\n",
       "       [ 6.623],\n",
       "       [12.647],\n",
       "       [26.532],\n",
       "       [ 9.333],\n",
       "       [ 8.837],\n",
       "       [24.172],\n",
       "       [ 8.1  ],\n",
       "       [15.038],\n",
       "       [39.965],\n",
       "       [17.171],\n",
       "       [43.978],\n",
       "       [13.119],\n",
       "       [46.453],\n",
       "       [41.358],\n",
       "       [51.142],\n",
       "       [ 7.336],\n",
       "       [15.725],\n",
       "       [19.771],\n",
       "       [10.429],\n",
       "       [ 9.742],\n",
       "       [ 8.924],\n",
       "       [16.703],\n",
       "       [22.701],\n",
       "       [26.882],\n",
       "       [19.106],\n",
       "       [40.602],\n",
       "       [22.184],\n",
       "       [ 7.892],\n",
       "       [36.653],\n",
       "       [53.158],\n",
       "       [18.238],\n",
       "       [53.359],\n",
       "       [51.583],\n",
       "       [31.236],\n",
       "       [51.343],\n",
       "       [10.522],\n",
       "       [10.844],\n",
       "       [19.59 ],\n",
       "       [21.379],\n",
       "       [12.591],\n",
       "       [13.562],\n",
       "       [27.569],\n",
       "       [ 6.185],\n",
       "       [ 8.92 ],\n",
       "       [21.4  ],\n",
       "       [16.606],\n",
       "       [13.416],\n",
       "       [20.398],\n",
       "       [ 7.014],\n",
       "       [39.952],\n",
       "       [ 6.217],\n",
       "       [36.746],\n",
       "       [38.278],\n",
       "       [49.544],\n",
       "       [ 6.349],\n",
       "       [54.321],\n",
       "       [17.705],\n",
       "       [44.099],\n",
       "       [16.106],\n",
       "       [16.461],\n",
       "       [39.957],\n",
       "       [23.149],\n",
       "       [ 6.053],\n",
       "       [11.253],\n",
       "       [40.024],\n",
       "       [24.394],\n",
       "       [19.564],\n",
       "       [23.916],\n",
       "       [42.426],\n",
       "       [24.451],\n",
       "       [19.128],\n",
       "       [ 5.609],\n",
       "       [41.444],\n",
       "       [12.027],\n",
       "       [32.357]])"
      ]
     },
     "execution_count": 4,
     "metadata": {},
     "output_type": "execute_result"
    }
   ],
   "source": [
    "y=df[['Marks']].values\n",
    "y"
   ]
  },
  {
   "cell_type": "markdown",
   "id": "2ea84073",
   "metadata": {},
   "source": [
    "# VISUALIZE DATASET"
   ]
  },
  {
   "cell_type": "code",
   "execution_count": 5,
   "id": "cd9f1b70",
   "metadata": {},
   "outputs": [
    {
     "data": {
      "text/plain": [
       "<matplotlib.collections.PathCollection at 0x1ddcf2c8df0>"
      ]
     },
     "execution_count": 5,
     "metadata": {},
     "output_type": "execute_result"
    },
    {
     "data": {
      "image/png": "[encoded data removed]",
      "text/plain": [
       "<Figure size 640x480 with 1 Axes>"
      ]
     },
     "metadata": {},
     "output_type": "display_data"
    }
   ],
   "source": [
    "plt.scatter(x,y)"
   ]
  },
  {
   "cell_type": "code",
   "execution_count": 6,
   "id": "7873d351",
   "metadata": {},
   "outputs": [
    {
     "data": {
      "text/plain": [
       "<seaborn.axisgrid.FacetGrid at 0x1ddcf19d900>"
      ]
     },
     "execution_count": 6,
     "metadata": {},
     "output_type": "execute_result"
    },
    {
     "data": {
      "image/png": "[encoded data removed]",
      "text/plain": [
       "<Figure size 500x500 with 1 Axes>"
      ]
     },
     "metadata": {},
     "output_type": "display_data"
    }
   ],
   "source": [
    "sns.lmplot(x=\"time_study\",y=\"Marks\",data=df)"
   ]
  },
  {
   "cell_type": "markdown",
   "id": "0be5cbe5",
   "metadata": {},
   "source": [
    "# IMPORT LINEAR MODEL"
   ]
  },
  {
   "cell_type": "code",
   "execution_count": 7,
   "id": "0f0915c9",
   "metadata": {},
   "outputs": [],
   "source": [
    "from sklearn import linear_model\n",
    "model=linear_model.LinearRegression()"
   ]
  },
  {
   "cell_type": "code",
   "execution_count": 8,
   "id": "2b623bff",
   "metadata": {},
   "outputs": [
    {
     "data": {
      "text/html": [
       "<style>#sk-container-id-1 {color: black;background-color: white;}#sk-container-id-1 pre{padding: 0;}#sk-container-id-1 div.sk-toggleable {background-color: white;}#sk-container-id-1 label.sk-toggleable__label {cursor: pointer;display: block;width: 100%;margin-bottom: 0;padding: 0.3em;box-sizing: border-box;text-align: center;}#sk-container-id-1 label.sk-toggleable__label-arrow:before {content: \"▸\";float: left;margin-right: 0.25em;color: #696969;}#sk-container-id-1 label.sk-toggleable__label-arrow:hover:before {color: black;}#sk-container-id-1 div.sk-estimator:hover label.sk-toggleable__label-arrow:before {color: black;}#sk-container-id-1 div.sk-toggleable__content {max-height: 0;max-width: 0;overflow: hidden;text-align: left;background-color: #f0f8ff;}#sk-container-id-1 div.sk-toggleable__content pre {margin: 0.2em;color: black;border-radius: 0.25em;background-color: #f0f8ff;}#sk-container-id-1 input.sk-toggleable__control:checked~div.sk-toggleable__content {max-height: 200px;max-width: 100%;overflow: auto;}#sk-container-id-1 input.sk-toggleable__control:checked~label.sk-toggleable__label-arrow:before {content: \"▾\";}#sk-container-id-1 div.sk-estimator input.sk-toggleable__control:checked~label.sk-toggleable__label {background-color: #d4ebff;}#sk-container-id-1 div.sk-label input.sk-toggleable__control:checked~label.sk-toggleable__label {background-color: #d4ebff;}#sk-container-id-1 input.sk-hidden--visually {border: 0;clip: rect(1px 1px 1px 1px);clip: rect(1px, 1px, 1px, 1px);height: 1px;margin: -1px;overflow: hidden;padding: 0;position: absolute;width: 1px;}#sk-container-id-1 div.sk-estimator {font-family: monospace;background-color: #f0f8ff;border: 1px dotted black;border-radius: 0.25em;box-sizing: border-box;margin-bottom: 0.5em;}#sk-container-id-1 div.sk-estimator:hover {background-color: #d4ebff;}#sk-container-id-1 div.sk-parallel-item::after {content: \"\";width: 100%;border-bottom: 1px solid gray;flex-grow: 1;}#sk-container-id-1 div.sk-label:hover label.sk-toggleable__label {background-color: #d4ebff;}#sk-container-id-1 div.sk-serial::before {content: \"\";position: absolute;border-left: 1px solid gray;box-sizing: border-box;top: 0;bottom: 0;left: 50%;z-index: 0;}#sk-container-id-1 div.sk-serial {display: flex;flex-direction: column;align-items: center;background-color: white;padding-right: 0.2em;padding-left: 0.2em;position: relative;}#sk-container-id-1 div.sk-item {position: relative;z-index: 1;}#sk-container-id-1 div.sk-parallel {display: flex;align-items: stretch;justify-content: center;background-color: white;position: relative;}#sk-container-id-1 div.sk-item::before, #sk-container-id-1 div.sk-parallel-item::before {content: \"\";position: absolute;border-left: 1px solid gray;box-sizing: border-box;top: 0;bottom: 0;left: 50%;z-index: -1;}#sk-container-id-1 div.sk-parallel-item {display: flex;flex-direction: column;z-index: 1;position: relative;background-color: white;}#sk-container-id-1 div.sk-parallel-item:first-child::after {align-self: flex-end;width: 50%;}#sk-container-id-1 div.sk-parallel-item:last-child::after {align-self: flex-start;width: 50%;}#sk-container-id-1 div.sk-parallel-item:only-child::after {width: 0;}#sk-container-id-1 div.sk-dashed-wrapped {border: 1px dashed gray;margin: 0 0.4em 0.5em 0.4em;box-sizing: border-box;padding-bottom: 0.4em;background-color: white;}#sk-container-id-1 div.sk-label label {font-family: monospace;font-weight: bold;display: inline-block;line-height: 1.2em;}#sk-container-id-1 div.sk-label-container {text-align: center;}#sk-container-id-1 div.sk-container {/* jupyter's `normalize.less` sets `[hidden] { display: none; }` but bootstrap.min.css set `[hidden] { display: none !important; }` so we also need the `!important` here to be able to override the default hidden behavior on the sphinx rendered scikit-learn.org. See: https://github.com/scikit-learn/scikit-learn/issues/21755 */display: inline-block !important;position: relative;}#sk-container-id-1 div.sk-text-repr-fallback {display: none;}</style><div id=\"sk-container-id-1\" class=\"sk-top-container\"><div class=\"sk-text-repr-fallback\"><pre>LinearRegression()</pre><b>In a Jupyter environment, please rerun this cell to show the HTML representation or trust the notebook. <br />On GitHub, the HTML representation is unable to render, please try loading this page with nbviewer.org.</b></div><div class=\"sk-container\" hidden><div class=\"sk-item\"><div class=\"sk-estimator sk-toggleable\"><input class=\"sk-toggleable__control sk-hidden--visually\" id=\"sk-estimator-id-1\" type=\"checkbox\" checked><label for=\"sk-estimator-id-1\" class=\"sk-toggleable__label sk-toggleable__label-arrow\">LinearRegression</label><div class=\"sk-toggleable__content\"><pre>LinearRegression()</pre></div></div></div></div></div>"
      ],
      "text/plain": [
       "LinearRegression()"
      ]
     },
     "execution_count": 8,
     "metadata": {},
     "output_type": "execute_result"
    }
   ],
   "source": [
    "model.fit(x,y)"
   ]
  },
  {
   "cell_type": "code",
   "execution_count": 9,
   "id": "c0d16b8a",
   "metadata": {},
   "outputs": [],
   "source": [
    "#now do regression through linear model on polynomial model"
   ]
  },
  {
   "cell_type": "code",
   "execution_count": 10,
   "id": "35d51722",
   "metadata": {},
   "outputs": [
    {
     "data": {
      "text/plain": [
       "array([[37.06298576]])"
      ]
     },
     "execution_count": 10,
     "metadata": {},
     "output_type": "execute_result"
    }
   ],
   "source": [
    "model.predict([[6.3]])"
   ]
  },
  {
   "cell_type": "markdown",
   "id": "e90d7048",
   "metadata": {},
   "source": [
    "# NOW USE POLYNOMIAL FEATURES TO THE LINEAR MODEL"
   ]
  },
  {
   "cell_type": "code",
   "execution_count": 11,
   "id": "afc9fe30",
   "metadata": {},
   "outputs": [],
   "source": [
    "poly=PolynomialFeatures(degree=2)\n"
   ]
  },
  {
   "cell_type": "code",
   "execution_count": 12,
   "id": "98fe5a19",
   "metadata": {},
   "outputs": [],
   "source": [
    "x_poly=poly.fit_transform(x)"
   ]
  },
  {
   "cell_type": "code",
   "execution_count": 13,
   "id": "9b7f3f02",
   "metadata": {},
   "outputs": [],
   "source": [
    "model2=linear_model.LinearRegression()"
   ]
  },
  {
   "cell_type": "code",
   "execution_count": 14,
   "id": "7ad6696e",
   "metadata": {},
   "outputs": [
    {
     "data": {
      "text/html": [
       "<style>#sk-container-id-2 {color: black;background-color: white;}#sk-container-id-2 pre{padding: 0;}#sk-container-id-2 div.sk-toggleable {background-color: white;}#sk-container-id-2 label.sk-toggleable__label {cursor: pointer;display: block;width: 100%;margin-bottom: 0;padding: 0.3em;box-sizing: border-box;text-align: center;}#sk-container-id-2 label.sk-toggleable__label-arrow:before {content: \"▸\";float: left;margin-right: 0.25em;color: #696969;}#sk-container-id-2 label.sk-toggleable__label-arrow:hover:before {color: black;}#sk-container-id-2 div.sk-estimator:hover label.sk-toggleable__label-arrow:before {color: black;}#sk-container-id-2 div.sk-toggleable__content {max-height: 0;max-width: 0;overflow: hidden;text-align: left;background-color: #f0f8ff;}#sk-container-id-2 div.sk-toggleable__content pre {margin: 0.2em;color: black;border-radius: 0.25em;background-color: #f0f8ff;}#sk-container-id-2 input.sk-toggleable__control:checked~div.sk-toggleable__content {max-height: 200px;max-width: 100%;overflow: auto;}#sk-container-id-2 input.sk-toggleable__control:checked~label.sk-toggleable__label-arrow:before {content: \"▾\";}#sk-container-id-2 div.sk-estimator input.sk-toggleable__control:checked~label.sk-toggleable__label {background-color: #d4ebff;}#sk-container-id-2 div.sk-label input.sk-toggleable__control:checked~label.sk-toggleable__label {background-color: #d4ebff;}#sk-container-id-2 input.sk-hidden--visually {border: 0;clip: rect(1px 1px 1px 1px);clip: rect(1px, 1px, 1px, 1px);height: 1px;margin: -1px;overflow: hidden;padding: 0;position: absolute;width: 1px;}#sk-container-id-2 div.sk-estimator {font-family: monospace;background-color: #f0f8ff;border: 1px dotted black;border-radius: 0.25em;box-sizing: border-box;margin-bottom: 0.5em;}#sk-container-id-2 div.sk-estimator:hover {background-color: #d4ebff;}#sk-container-id-2 div.sk-parallel-item::after {content: \"\";width: 100%;border-bottom: 1px solid gray;flex-grow: 1;}#sk-container-id-2 div.sk-label:hover label.sk-toggleable__label {background-color: #d4ebff;}#sk-container-id-2 div.sk-serial::before {content: \"\";position: absolute;border-left: 1px solid gray;box-sizing: border-box;top: 0;bottom: 0;left: 50%;z-index: 0;}#sk-container-id-2 div.sk-serial {display: flex;flex-direction: column;align-items: center;background-color: white;padding-right: 0.2em;padding-left: 0.2em;position: relative;}#sk-container-id-2 div.sk-item {position: relative;z-index: 1;}#sk-container-id-2 div.sk-parallel {display: flex;align-items: stretch;justify-content: center;background-color: white;position: relative;}#sk-container-id-2 div.sk-item::before, #sk-container-id-2 div.sk-parallel-item::before {content: \"\";position: absolute;border-left: 1px solid gray;box-sizing: border-box;top: 0;bottom: 0;left: 50%;z-index: -1;}#sk-container-id-2 div.sk-parallel-item {display: flex;flex-direction: column;z-index: 1;position: relative;background-color: white;}#sk-container-id-2 div.sk-parallel-item:first-child::after {align-self: flex-end;width: 50%;}#sk-container-id-2 div.sk-parallel-item:last-child::after {align-self: flex-start;width: 50%;}#sk-container-id-2 div.sk-parallel-item:only-child::after {width: 0;}#sk-container-id-2 div.sk-dashed-wrapped {border: 1px dashed gray;margin: 0 0.4em 0.5em 0.4em;box-sizing: border-box;padding-bottom: 0.4em;background-color: white;}#sk-container-id-2 div.sk-label label {font-family: monospace;font-weight: bold;display: inline-block;line-height: 1.2em;}#sk-container-id-2 div.sk-label-container {text-align: center;}#sk-container-id-2 div.sk-container {/* jupyter's `normalize.less` sets `[hidden] { display: none; }` but bootstrap.min.css set `[hidden] { display: none !important; }` so we also need the `!important` here to be able to override the default hidden behavior on the sphinx rendered scikit-learn.org. See: https://github.com/scikit-learn/scikit-learn/issues/21755 */display: inline-block !important;position: relative;}#sk-container-id-2 div.sk-text-repr-fallback {display: none;}</style><div id=\"sk-container-id-2\" class=\"sk-top-container\"><div class=\"sk-text-repr-fallback\"><pre>LinearRegression()</pre><b>In a Jupyter environment, please rerun this cell to show the HTML representation or trust the notebook. <br />On GitHub, the HTML representation is unable to render, please try loading this page with nbviewer.org.</b></div><div class=\"sk-container\" hidden><div class=\"sk-item\"><div class=\"sk-estimator sk-toggleable\"><input class=\"sk-toggleable__control sk-hidden--visually\" id=\"sk-estimator-id-2\" type=\"checkbox\" checked><label for=\"sk-estimator-id-2\" class=\"sk-toggleable__label sk-toggleable__label-arrow\">LinearRegression</label><div class=\"sk-toggleable__content\"><pre>LinearRegression()</pre></div></div></div></div></div>"
      ],
      "text/plain": [
       "LinearRegression()"
      ]
     },
     "execution_count": 14,
     "metadata": {},
     "output_type": "execute_result"
    }
   ],
   "source": [
    "model2.fit(x_poly,y)"
   ]
  },
  {
   "cell_type": "code",
   "execution_count": 15,
   "id": "4e8c34c9",
   "metadata": {
    "scrolled": true
   },
   "outputs": [
    {
     "data": {
      "text/plain": [
       "array([[36.70044497]])"
      ]
     },
     "execution_count": 15,
     "metadata": {},
     "output_type": "execute_result"
    }
   ],
   "source": [
    "model2.predict(poly.fit_transform([[6.3]]))"
   ]
  },
  {
   "cell_type": "markdown",
   "id": "a1949e2e",
   "metadata": {},
   "source": [
    "# FIND THE RMSE AND MSE \n"
   ]
  },
  {
   "cell_type": "code",
   "execution_count": 16,
   "id": "86e4a030",
   "metadata": {},
   "outputs": [
    {
     "name": "stdout",
     "output_type": "stream",
     "text": [
      "Linear Regression:\n",
      "MSE: 22.789030971957636\n",
      "RMSE: 4.7737858112778415\n",
      "\n",
      "Polynomial Regression:\n",
      "MSE: 8.94709315297289\n",
      "RMSE: 2.9911691949759196\n"
     ]
    }
   ],
   "source": [
    "from sklearn.metrics import mean_squared_error\n",
    "\n",
    "# Linear regression MSE and RMSE\n",
    "linear_predictions = model.predict(x)\n",
    "linear_mse = mean_squared_error(y, linear_predictions)\n",
    "linear_rmse = np.sqrt(linear_mse)\n",
    "\n",
    "# Polynomial regression MSE and RMSE\n",
    "poly_predictions = model2.predict(x_poly)\n",
    "poly_mse = mean_squared_error(y, poly_predictions)\n",
    "poly_rmse = np.sqrt(poly_mse)\n",
    "\n",
    "print(\"Linear Regression:\")\n",
    "print(f\"MSE: {linear_mse}\")\n",
    "print(f\"RMSE: {linear_rmse}\")\n",
    "\n",
    "print(\"\\nPolynomial Regression:\")\n",
    "print(f\"MSE: {poly_mse}\")\n",
    "print(f\"RMSE: {poly_rmse}\")\n"
   ]
  },
  {
   "cell_type": "code",
   "execution_count": null,
   "id": "9708e11c",
   "metadata": {},
   "outputs": [],
   "source": []
  }
 ],
 "metadata": {
  "kernelspec": {
   "display_name": "Python 3 (ipykernel)",
   "language": "python",
   "name": "python3"
  },
  "language_info": {
   "codemirror_mode": {
    "name": "ipython",
    "version": 3
   },
   "file_extension": ".py",
   "mimetype": "text/x-python",
   "name": "python",
   "nbconvert_exporter": "python",
   "pygments_lexer": "ipython3",
   "version": "3.10.9"
  }
 },
 "nbformat": 4,
 "nbformat_minor": 5
}
